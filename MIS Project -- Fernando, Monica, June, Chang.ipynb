{
 "cells": [
  {
   "cell_type": "code",
   "execution_count": 390,
   "id": "905c54cd",
   "metadata": {},
   "outputs": [
    {
     "name": "stdout",
     "output_type": "stream",
     "text": [
      "%pylab is deprecated, use %matplotlib inline and import the required libraries.\n",
      "Populating the interactive namespace from numpy and matplotlib\n"
     ]
    }
   ],
   "source": [
    "from pandas import Series, DataFrame\n",
    "import pandas as pd\n",
    "%pylab inline\n",
    "from patsy import dmatrices\n",
    "import numpy as np\n",
    "from sklearn.model_selection import train_test_split, cross_val_score\n",
    "import matplotlib.pyplot as plt\n",
    "import seaborn as sns"
   ]
  },
  {
   "cell_type": "markdown",
   "id": "aa43e918",
   "metadata": {},
   "source": [
    "# Read the file"
   ]
  },
  {
   "cell_type": "code",
   "execution_count": 332,
   "id": "7ad28e33",
   "metadata": {},
   "outputs": [
    {
     "data": {
      "text/html": [
       "<div>\n",
       "<style scoped>\n",
       "    .dataframe tbody tr th:only-of-type {\n",
       "        vertical-align: middle;\n",
       "    }\n",
       "\n",
       "    .dataframe tbody tr th {\n",
       "        vertical-align: top;\n",
       "    }\n",
       "\n",
       "    .dataframe thead th {\n",
       "        text-align: right;\n",
       "    }\n",
       "</style>\n",
       "<table border=\"1\" class=\"dataframe\">\n",
       "  <thead>\n",
       "    <tr style=\"text-align: right;\">\n",
       "      <th></th>\n",
       "      <th>Gender</th>\n",
       "      <th>Company_Type</th>\n",
       "      <th>WFH_Setup_Available</th>\n",
       "      <th>Designation</th>\n",
       "      <th>Resource_Allocation</th>\n",
       "      <th>Mental_Fatigue_Score</th>\n",
       "      <th>Burn_Rate</th>\n",
       "    </tr>\n",
       "  </thead>\n",
       "  <tbody>\n",
       "    <tr>\n",
       "      <th>0</th>\n",
       "      <td>Female</td>\n",
       "      <td>Service</td>\n",
       "      <td>No</td>\n",
       "      <td>2</td>\n",
       "      <td>3</td>\n",
       "      <td>3.8</td>\n",
       "      <td>0.16</td>\n",
       "    </tr>\n",
       "    <tr>\n",
       "      <th>1</th>\n",
       "      <td>Male</td>\n",
       "      <td>Service</td>\n",
       "      <td>Yes</td>\n",
       "      <td>1</td>\n",
       "      <td>2</td>\n",
       "      <td>5.0</td>\n",
       "      <td>0.36</td>\n",
       "    </tr>\n",
       "    <tr>\n",
       "      <th>2</th>\n",
       "      <td>Male</td>\n",
       "      <td>Service</td>\n",
       "      <td>Yes</td>\n",
       "      <td>1</td>\n",
       "      <td>1</td>\n",
       "      <td>2.6</td>\n",
       "      <td>0.20</td>\n",
       "    </tr>\n",
       "    <tr>\n",
       "      <th>3</th>\n",
       "      <td>Female</td>\n",
       "      <td>Service</td>\n",
       "      <td>No</td>\n",
       "      <td>3</td>\n",
       "      <td>7</td>\n",
       "      <td>6.9</td>\n",
       "      <td>0.52</td>\n",
       "    </tr>\n",
       "    <tr>\n",
       "      <th>4</th>\n",
       "      <td>Male</td>\n",
       "      <td>Product</td>\n",
       "      <td>Yes</td>\n",
       "      <td>2</td>\n",
       "      <td>4</td>\n",
       "      <td>3.6</td>\n",
       "      <td>0.29</td>\n",
       "    </tr>\n",
       "    <tr>\n",
       "      <th>...</th>\n",
       "      <td>...</td>\n",
       "      <td>...</td>\n",
       "      <td>...</td>\n",
       "      <td>...</td>\n",
       "      <td>...</td>\n",
       "      <td>...</td>\n",
       "      <td>...</td>\n",
       "    </tr>\n",
       "    <tr>\n",
       "      <th>18585</th>\n",
       "      <td>Female</td>\n",
       "      <td>Product</td>\n",
       "      <td>Yes</td>\n",
       "      <td>1</td>\n",
       "      <td>3</td>\n",
       "      <td>6.0</td>\n",
       "      <td>0.48</td>\n",
       "    </tr>\n",
       "    <tr>\n",
       "      <th>18586</th>\n",
       "      <td>Male</td>\n",
       "      <td>Product</td>\n",
       "      <td>No</td>\n",
       "      <td>3</td>\n",
       "      <td>7</td>\n",
       "      <td>6.2</td>\n",
       "      <td>0.54</td>\n",
       "    </tr>\n",
       "    <tr>\n",
       "      <th>18587</th>\n",
       "      <td>Female</td>\n",
       "      <td>Product</td>\n",
       "      <td>Yes</td>\n",
       "      <td>3</td>\n",
       "      <td>6</td>\n",
       "      <td>6.7</td>\n",
       "      <td>0.59</td>\n",
       "    </tr>\n",
       "    <tr>\n",
       "      <th>18588</th>\n",
       "      <td>Female</td>\n",
       "      <td>Service</td>\n",
       "      <td>No</td>\n",
       "      <td>2</td>\n",
       "      <td>5</td>\n",
       "      <td>5.9</td>\n",
       "      <td>0.52</td>\n",
       "    </tr>\n",
       "    <tr>\n",
       "      <th>18589</th>\n",
       "      <td>Male</td>\n",
       "      <td>Product</td>\n",
       "      <td>No</td>\n",
       "      <td>3</td>\n",
       "      <td>6</td>\n",
       "      <td>7.8</td>\n",
       "      <td>0.61</td>\n",
       "    </tr>\n",
       "  </tbody>\n",
       "</table>\n",
       "<p>18590 rows × 7 columns</p>\n",
       "</div>"
      ],
      "text/plain": [
       "       Gender Company_Type WFH_Setup_Available  Designation  \\\n",
       "0      Female      Service                  No            2   \n",
       "1        Male      Service                 Yes            1   \n",
       "2        Male      Service                 Yes            1   \n",
       "3      Female      Service                  No            3   \n",
       "4        Male      Product                 Yes            2   \n",
       "...       ...          ...                 ...          ...   \n",
       "18585  Female      Product                 Yes            1   \n",
       "18586    Male      Product                  No            3   \n",
       "18587  Female      Product                 Yes            3   \n",
       "18588  Female      Service                  No            2   \n",
       "18589    Male      Product                  No            3   \n",
       "\n",
       "       Resource_Allocation  Mental_Fatigue_Score  Burn_Rate  \n",
       "0                        3                   3.8       0.16  \n",
       "1                        2                   5.0       0.36  \n",
       "2                        1                   2.6       0.20  \n",
       "3                        7                   6.9       0.52  \n",
       "4                        4                   3.6       0.29  \n",
       "...                    ...                   ...        ...  \n",
       "18585                    3                   6.0       0.48  \n",
       "18586                    7                   6.2       0.54  \n",
       "18587                    6                   6.7       0.59  \n",
       "18588                    5                   5.9       0.52  \n",
       "18589                    6                   7.8       0.61  \n",
       "\n",
       "[18590 rows x 7 columns]"
      ]
     },
     "execution_count": 332,
     "metadata": {},
     "output_type": "execute_result"
    }
   ],
   "source": [
    "dataset=pd.read_excel('CleanData.xlsx').drop_duplicates().dropna()\n",
    "dataset=dataset.drop(['Unnamed: 0', 'Date_of_Joining'], axis=1)\n",
    "dataset"
   ]
  },
  {
   "cell_type": "markdown",
   "id": "4a069c47",
   "metadata": {},
   "source": [
    "# Stratified Train-Test Split"
   ]
  },
  {
   "cell_type": "code",
   "execution_count": 319,
   "id": "c2ff56ae",
   "metadata": {},
   "outputs": [],
   "source": [
    "# Create Stratified and Test Samples\n",
    "y=dataset.pop('Burn_Rate').to_frame()\n",
    "X=dataset"
   ]
  },
  {
   "cell_type": "code",
   "execution_count": 365,
   "id": "0cdddd66",
   "metadata": {},
   "outputs": [],
   "source": [
    "# Using a 70\"30 split in train:test\n",
    "X_train,X_test,y_train,y_test=train_test_split(X,y,stratify=y,test_size=0.3,random_state=1)"
   ]
  },
  {
   "cell_type": "code",
   "execution_count": 321,
   "id": "5738576b",
   "metadata": {},
   "outputs": [
    {
     "data": {
      "text/plain": [
       "((13013, 6), (13013, 1), (5577, 6), (5577, 1))"
      ]
     },
     "execution_count": 321,
     "metadata": {},
     "output_type": "execute_result"
    }
   ],
   "source": [
    "# Checking the number of rows and columns\n",
    "X_train.shape,y_train.shape,X_test.shape,y_test.shape"
   ]
  },
  {
   "cell_type": "code",
   "execution_count": 322,
   "id": "ffc352d1",
   "metadata": {},
   "outputs": [
    {
     "data": {
      "text/plain": [
       "0.47    2.236225\n",
       "0.43    2.051794\n",
       "0.45    2.036425\n",
       "0.50    1.982633\n",
       "0.41    1.967264\n",
       "          ...   \n",
       "0.98    0.092215\n",
       "0.95    0.084531\n",
       "0.97    0.061477\n",
       "0.96    0.053792\n",
       "0.99    0.046108\n",
       "Name: Burn_Rate, Length: 101, dtype: float64"
      ]
     },
     "execution_count": 322,
     "metadata": {},
     "output_type": "execute_result"
    }
   ],
   "source": [
    "# Checking class imbalance in train\n",
    "y_train['Burn_Rate'].value_counts()/len(y_train['Burn_Rate'])*100"
   ]
  },
  {
   "cell_type": "code",
   "execution_count": 323,
   "id": "7c38345f",
   "metadata": {},
   "outputs": [
    {
     "data": {
      "text/plain": [
       "0.47    2.241348\n",
       "0.43    2.062041\n",
       "0.45    2.044110\n",
       "0.50    1.990317\n",
       "0.41    1.954456\n",
       "          ...   \n",
       "0.98    0.089654\n",
       "0.95    0.089654\n",
       "0.97    0.053792\n",
       "0.96    0.053792\n",
       "0.99    0.035862\n",
       "Name: Burn_Rate, Length: 101, dtype: float64"
      ]
     },
     "execution_count": 323,
     "metadata": {},
     "output_type": "execute_result"
    }
   ],
   "source": [
    "# Checking class imbalance in test\n",
    "y_test['Burn_Rate'].value_counts()/len(y_test['Burn_Rate'])*100"
   ]
  },
  {
   "cell_type": "markdown",
   "id": "ba532a29",
   "metadata": {},
   "source": [
    "# EDA "
   ]
  },
  {
   "cell_type": "code",
   "execution_count": 324,
   "id": "31c56d53",
   "metadata": {},
   "outputs": [
    {
     "name": "stdout",
     "output_type": "stream",
     "text": [
      "<class 'pandas.core.frame.DataFrame'>\n",
      "Int64Index: 13013 entries, 3533 to 13453\n",
      "Data columns (total 6 columns):\n",
      " #   Column                Non-Null Count  Dtype  \n",
      "---  ------                --------------  -----  \n",
      " 0   Gender                13013 non-null  object \n",
      " 1   Company_Type          13013 non-null  object \n",
      " 2   WFH_Setup_Available   13013 non-null  object \n",
      " 3   Designation           13013 non-null  int64  \n",
      " 4   Resource_Allocation   13013 non-null  int64  \n",
      " 5   Mental_Fatigue_Score  13013 non-null  float64\n",
      "dtypes: float64(1), int64(2), object(3)\n",
      "memory usage: 711.6+ KB\n"
     ]
    }
   ],
   "source": [
    "# Checking variable types\n",
    "X_train.info()"
   ]
  },
  {
   "cell_type": "code",
   "execution_count": 325,
   "id": "33b42d20",
   "metadata": {},
   "outputs": [
    {
     "data": {
      "text/html": [
       "<div>\n",
       "<style scoped>\n",
       "    .dataframe tbody tr th:only-of-type {\n",
       "        vertical-align: middle;\n",
       "    }\n",
       "\n",
       "    .dataframe tbody tr th {\n",
       "        vertical-align: top;\n",
       "    }\n",
       "\n",
       "    .dataframe thead th {\n",
       "        text-align: right;\n",
       "    }\n",
       "</style>\n",
       "<table border=\"1\" class=\"dataframe\">\n",
       "  <thead>\n",
       "    <tr style=\"text-align: right;\">\n",
       "      <th></th>\n",
       "      <th>Designation</th>\n",
       "      <th>Resource_Allocation</th>\n",
       "      <th>Mental_Fatigue_Score</th>\n",
       "    </tr>\n",
       "  </thead>\n",
       "  <tbody>\n",
       "    <tr>\n",
       "      <th>count</th>\n",
       "      <td>13013.000000</td>\n",
       "      <td>13013.000000</td>\n",
       "      <td>13013.000000</td>\n",
       "    </tr>\n",
       "    <tr>\n",
       "      <th>mean</th>\n",
       "      <td>2.178744</td>\n",
       "      <td>4.477984</td>\n",
       "      <td>5.735488</td>\n",
       "    </tr>\n",
       "    <tr>\n",
       "      <th>std</th>\n",
       "      <td>1.134589</td>\n",
       "      <td>2.039966</td>\n",
       "      <td>1.919201</td>\n",
       "    </tr>\n",
       "    <tr>\n",
       "      <th>min</th>\n",
       "      <td>0.000000</td>\n",
       "      <td>1.000000</td>\n",
       "      <td>0.000000</td>\n",
       "    </tr>\n",
       "    <tr>\n",
       "      <th>25%</th>\n",
       "      <td>1.000000</td>\n",
       "      <td>3.000000</td>\n",
       "      <td>4.600000</td>\n",
       "    </tr>\n",
       "    <tr>\n",
       "      <th>50%</th>\n",
       "      <td>2.000000</td>\n",
       "      <td>4.000000</td>\n",
       "      <td>5.900000</td>\n",
       "    </tr>\n",
       "    <tr>\n",
       "      <th>75%</th>\n",
       "      <td>3.000000</td>\n",
       "      <td>6.000000</td>\n",
       "      <td>7.100000</td>\n",
       "    </tr>\n",
       "    <tr>\n",
       "      <th>max</th>\n",
       "      <td>5.000000</td>\n",
       "      <td>10.000000</td>\n",
       "      <td>10.000000</td>\n",
       "    </tr>\n",
       "  </tbody>\n",
       "</table>\n",
       "</div>"
      ],
      "text/plain": [
       "        Designation  Resource_Allocation  Mental_Fatigue_Score\n",
       "count  13013.000000         13013.000000          13013.000000\n",
       "mean       2.178744             4.477984              5.735488\n",
       "std        1.134589             2.039966              1.919201\n",
       "min        0.000000             1.000000              0.000000\n",
       "25%        1.000000             3.000000              4.600000\n",
       "50%        2.000000             4.000000              5.900000\n",
       "75%        3.000000             6.000000              7.100000\n",
       "max        5.000000            10.000000             10.000000"
      ]
     },
     "execution_count": 325,
     "metadata": {},
     "output_type": "execute_result"
    }
   ],
   "source": [
    "# Checking variable correlation statistics \n",
    "X_train.describe()"
   ]
  },
  {
   "cell_type": "code",
   "execution_count": 326,
   "id": "d6e4ef6a",
   "metadata": {},
   "outputs": [
    {
     "data": {
      "text/plain": [
       "<seaborn.axisgrid.PairGrid at 0x139e9441f40>"
      ]
     },
     "execution_count": 326,
     "metadata": {},
     "output_type": "execute_result"
    },
    {
     "data": {
      "image/png": "[encoded data removed]",
      "text/plain": [
       "<Figure size 540x540 with 12 Axes>"
      ]
     },
     "metadata": {
      "needs_background": "light"
     },
     "output_type": "display_data"
    }
   ],
   "source": [
    "# Data Visualization\n",
    "sns.pairplot(dataset)"
   ]
  },
  {
   "cell_type": "markdown",
   "id": "3f28b203",
   "metadata": {},
   "source": [
    "# Model Fit"
   ]
  },
  {
   "cell_type": "markdown",
   "id": "32397289",
   "metadata": {},
   "source": [
    "### 1. Multi Linear Regression"
   ]
  },
  {
   "cell_type": "code",
   "execution_count": 327,
   "id": "54eab117",
   "metadata": {},
   "outputs": [],
   "source": [
    "import statsmodels.api as sm\n",
    "from patsy import dmatrices"
   ]
  },
  {
   "cell_type": "code",
   "execution_count": 328,
   "id": "b438c2f5",
   "metadata": {},
   "outputs": [
    {
     "data": {
      "text/html": [
       "<div>\n",
       "<style scoped>\n",
       "    .dataframe tbody tr th:only-of-type {\n",
       "        vertical-align: middle;\n",
       "    }\n",
       "\n",
       "    .dataframe tbody tr th {\n",
       "        vertical-align: top;\n",
       "    }\n",
       "\n",
       "    .dataframe thead th {\n",
       "        text-align: right;\n",
       "    }\n",
       "</style>\n",
       "<table border=\"1\" class=\"dataframe\">\n",
       "  <thead>\n",
       "    <tr style=\"text-align: right;\">\n",
       "      <th></th>\n",
       "      <th>Gender</th>\n",
       "      <th>Company_Type</th>\n",
       "      <th>WFH_Setup_Available</th>\n",
       "      <th>Designation</th>\n",
       "      <th>Resource_Allocation</th>\n",
       "      <th>Mental_Fatigue_Score</th>\n",
       "    </tr>\n",
       "  </thead>\n",
       "  <tbody>\n",
       "    <tr>\n",
       "      <th>0</th>\n",
       "      <td>Female</td>\n",
       "      <td>Service</td>\n",
       "      <td>No</td>\n",
       "      <td>2</td>\n",
       "      <td>3</td>\n",
       "      <td>3.8</td>\n",
       "    </tr>\n",
       "    <tr>\n",
       "      <th>1</th>\n",
       "      <td>Male</td>\n",
       "      <td>Service</td>\n",
       "      <td>Yes</td>\n",
       "      <td>1</td>\n",
       "      <td>2</td>\n",
       "      <td>5.0</td>\n",
       "    </tr>\n",
       "    <tr>\n",
       "      <th>2</th>\n",
       "      <td>Male</td>\n",
       "      <td>Service</td>\n",
       "      <td>Yes</td>\n",
       "      <td>1</td>\n",
       "      <td>1</td>\n",
       "      <td>2.6</td>\n",
       "    </tr>\n",
       "    <tr>\n",
       "      <th>3</th>\n",
       "      <td>Female</td>\n",
       "      <td>Service</td>\n",
       "      <td>No</td>\n",
       "      <td>3</td>\n",
       "      <td>7</td>\n",
       "      <td>6.9</td>\n",
       "    </tr>\n",
       "    <tr>\n",
       "      <th>4</th>\n",
       "      <td>Male</td>\n",
       "      <td>Product</td>\n",
       "      <td>Yes</td>\n",
       "      <td>2</td>\n",
       "      <td>4</td>\n",
       "      <td>3.6</td>\n",
       "    </tr>\n",
       "  </tbody>\n",
       "</table>\n",
       "</div>"
      ],
      "text/plain": [
       "   Gender Company_Type WFH_Setup_Available  Designation  Resource_Allocation  \\\n",
       "0  Female      Service                  No            2                    3   \n",
       "1    Male      Service                 Yes            1                    2   \n",
       "2    Male      Service                 Yes            1                    1   \n",
       "3  Female      Service                  No            3                    7   \n",
       "4    Male      Product                 Yes            2                    4   \n",
       "\n",
       "   Mental_Fatigue_Score  \n",
       "0                   3.8  \n",
       "1                   5.0  \n",
       "2                   2.6  \n",
       "3                   6.9  \n",
       "4                   3.6  "
      ]
     },
     "execution_count": 328,
     "metadata": {},
     "output_type": "execute_result"
    }
   ],
   "source": [
    "dataset.columns = [c.replace(' ', '_') for c in dataset.columns]\n",
    "dataset[:5]"
   ]
  },
  {
   "cell_type": "code",
   "execution_count": 329,
   "id": "09a1f65c",
   "metadata": {},
   "outputs": [
    {
     "data": {
      "text/html": [
       "<div>\n",
       "<style scoped>\n",
       "    .dataframe tbody tr th:only-of-type {\n",
       "        vertical-align: middle;\n",
       "    }\n",
       "\n",
       "    .dataframe tbody tr th {\n",
       "        vertical-align: top;\n",
       "    }\n",
       "\n",
       "    .dataframe thead th {\n",
       "        text-align: right;\n",
       "    }\n",
       "</style>\n",
       "<table border=\"1\" class=\"dataframe\">\n",
       "  <thead>\n",
       "    <tr style=\"text-align: right;\">\n",
       "      <th></th>\n",
       "      <th>Gender</th>\n",
       "      <th>Company_Type</th>\n",
       "      <th>WFH_Setup_Available</th>\n",
       "      <th>Designation</th>\n",
       "      <th>Resource_Allocation</th>\n",
       "      <th>Mental_Fatigue_Score</th>\n",
       "    </tr>\n",
       "  </thead>\n",
       "  <tbody>\n",
       "    <tr>\n",
       "      <th>0</th>\n",
       "      <td>1</td>\n",
       "      <td>Service</td>\n",
       "      <td>0</td>\n",
       "      <td>2</td>\n",
       "      <td>3</td>\n",
       "      <td>3.8</td>\n",
       "    </tr>\n",
       "    <tr>\n",
       "      <th>1</th>\n",
       "      <td>0</td>\n",
       "      <td>Service</td>\n",
       "      <td>1</td>\n",
       "      <td>1</td>\n",
       "      <td>2</td>\n",
       "      <td>5.0</td>\n",
       "    </tr>\n",
       "    <tr>\n",
       "      <th>2</th>\n",
       "      <td>0</td>\n",
       "      <td>Service</td>\n",
       "      <td>1</td>\n",
       "      <td>1</td>\n",
       "      <td>1</td>\n",
       "      <td>2.6</td>\n",
       "    </tr>\n",
       "    <tr>\n",
       "      <th>3</th>\n",
       "      <td>1</td>\n",
       "      <td>Service</td>\n",
       "      <td>0</td>\n",
       "      <td>3</td>\n",
       "      <td>7</td>\n",
       "      <td>6.9</td>\n",
       "    </tr>\n",
       "    <tr>\n",
       "      <th>4</th>\n",
       "      <td>0</td>\n",
       "      <td>Product</td>\n",
       "      <td>1</td>\n",
       "      <td>2</td>\n",
       "      <td>4</td>\n",
       "      <td>3.6</td>\n",
       "    </tr>\n",
       "  </tbody>\n",
       "</table>\n",
       "</div>"
      ],
      "text/plain": [
       "   Gender Company_Type  WFH_Setup_Available  Designation  Resource_Allocation  \\\n",
       "0       1      Service                    0            2                    3   \n",
       "1       0      Service                    1            1                    2   \n",
       "2       0      Service                    1            1                    1   \n",
       "3       1      Service                    0            3                    7   \n",
       "4       0      Product                    1            2                    4   \n",
       "\n",
       "   Mental_Fatigue_Score  \n",
       "0                   3.8  \n",
       "1                   5.0  \n",
       "2                   2.6  \n",
       "3                   6.9  \n",
       "4                   3.6  "
      ]
     },
     "execution_count": 329,
     "metadata": {},
     "output_type": "execute_result"
    }
   ],
   "source": [
    "dataset['WFH_Setup_Available'].replace(('Yes', 'No'), (1, 0), inplace=True)\n",
    "dataset['Gender'].replace(('Female', 'Male'), (1, 0), inplace=True)\n",
    "dataset[:5]"
   ]
  },
  {
   "cell_type": "code",
   "execution_count": 334,
   "id": "70d31bba",
   "metadata": {},
   "outputs": [
    {
     "name": "stdout",
     "output_type": "stream",
     "text": [
      "                            OLS Regression Results                            \n",
      "==============================================================================\n",
      "Dep. Variable:              Burn_Rate   R-squared:                       0.921\n",
      "Model:                            OLS   Adj. R-squared:                  0.921\n",
      "Method:                 Least Squares   F-statistic:                 4.313e+04\n",
      "Date:                Fri, 05 Aug 2022   Prob (F-statistic):               0.00\n",
      "Time:                        14:49:51   Log-Likelihood:                 27297.\n",
      "No. Observations:               18590   AIC:                        -5.458e+04\n",
      "Df Residuals:                   18584   BIC:                        -5.454e+04\n",
      "Df Model:                           5                                         \n",
      "Covariance Type:            nonrobust                                         \n",
      "==============================================================================================\n",
      "                                 coef    std err          t      P>|t|      [0.025      0.975]\n",
      "----------------------------------------------------------------------------------------------\n",
      "Intercept                     -0.0849      0.002    -55.023      0.000      -0.088      -0.082\n",
      "Gender[T.Male]                 0.0044      0.001      5.353      0.000       0.003       0.006\n",
      "WFH_Setup_Available[T.Yes]    -0.0116      0.001    -13.459      0.000      -0.013      -0.010\n",
      "Designation                   -0.0048      0.001     -6.305      0.000      -0.006      -0.003\n",
      "Resource_Allocation            0.0286      0.001     56.606      0.000       0.028       0.030\n",
      "Mental_Fatigue_Score           0.0739      0.000    207.297      0.000       0.073       0.075\n",
      "==============================================================================\n",
      "Omnibus:                      197.033   Durbin-Watson:                   1.980\n",
      "Prob(Omnibus):                  0.000   Jarque-Bera (JB):              136.334\n",
      "Skew:                           0.089   Prob(JB):                     2.49e-30\n",
      "Kurtosis:                       2.620   Cond. No.                         32.8\n",
      "==============================================================================\n",
      "\n",
      "Notes:\n",
      "[1] Standard Errors assume that the covariance matrix of the errors is correctly specified.\n"
     ]
    }
   ],
   "source": [
    "# Create design matrics\n",
    "y, X = dmatrices('Burn_Rate ~ Gender + WFH_Setup_Available + Designation + Resource_Allocation + Mental_Fatigue_Score',data=dataset, return_type='dataframe')\n",
    "\n",
    "# Run the linear regression\n",
    "model = sm.OLS(y, X)\n",
    "result = model.fit()\n",
    "print(result.summary())"
   ]
  },
  {
   "cell_type": "code",
   "execution_count": 335,
   "id": "222c8c21",
   "metadata": {},
   "outputs": [
    {
     "data": {
      "text/plain": [
       "Intercept                    -0.084858\n",
       "Gender[T.Male]                0.004436\n",
       "WFH_Setup_Available[T.Yes]   -0.011573\n",
       "Designation                  -0.004758\n",
       "Resource_Allocation           0.028603\n",
       "Mental_Fatigue_Score          0.073877\n",
       "dtype: float64"
      ]
     },
     "execution_count": 335,
     "metadata": {},
     "output_type": "execute_result"
    }
   ],
   "source": [
    "result.params #neg: gender, wfh, desg"
   ]
  },
  {
   "cell_type": "code",
   "execution_count": 336,
   "id": "7c3ee0fc",
   "metadata": {},
   "outputs": [
    {
     "data": {
      "text/plain": [
       "0.9206635076855432"
      ]
     },
     "execution_count": 336,
     "metadata": {},
     "output_type": "execute_result"
    }
   ],
   "source": [
    "result.rsquared #Good fit, the regression explains 92% of data variability"
   ]
  },
  {
   "cell_type": "code",
   "execution_count": 337,
   "id": "9c65d183",
   "metadata": {},
   "outputs": [
    {
     "data": {
      "text/plain": [
       "Intercept                     0.000000e+00\n",
       "Gender[T.Male]                8.749079e-08\n",
       "WFH_Setup_Available[T.Yes]    4.264910e-41\n",
       "Designation                   2.944633e-10\n",
       "Resource_Allocation           0.000000e+00\n",
       "Mental_Fatigue_Score          0.000000e+00\n",
       "dtype: float64"
      ]
     },
     "execution_count": 337,
     "metadata": {},
     "output_type": "execute_result"
    }
   ],
   "source": [
    "result.pvalues #the lowest p-values are WFH, designation, Gender"
   ]
  },
  {
   "cell_type": "markdown",
   "id": "bce3a03a",
   "metadata": {},
   "source": [
    "#### Take out variables, that don't have as big as a significant"
   ]
  },
  {
   "cell_type": "code",
   "execution_count": 338,
   "id": "baa4eb30",
   "metadata": {},
   "outputs": [
    {
     "name": "stdout",
     "output_type": "stream",
     "text": [
      "                            OLS Regression Results                            \n",
      "==============================================================================\n",
      "Dep. Variable:              Burn_Rate   R-squared:                       0.920\n",
      "Model:                            OLS   Adj. R-squared:                  0.920\n",
      "Method:                 Least Squares   F-statistic:                 7.160e+04\n",
      "Date:                Fri, 05 Aug 2022   Prob (F-statistic):               0.00\n",
      "Time:                        14:49:55   Log-Likelihood:                 27262.\n",
      "No. Observations:               18590   AIC:                        -5.452e+04\n",
      "Df Residuals:                   18586   BIC:                        -5.448e+04\n",
      "Df Model:                           3                                         \n",
      "Covariance Type:            nonrobust                                         \n",
      "==============================================================================================\n",
      "                                 coef    std err          t      P>|t|      [0.025      0.975]\n",
      "----------------------------------------------------------------------------------------------\n",
      "Intercept                     -0.0835      0.002    -54.753      0.000      -0.087      -0.081\n",
      "WFH_Setup_Available[T.Yes]    -0.0119      0.001    -13.852      0.000      -0.014      -0.010\n",
      "Resource_Allocation            0.0263      0.000     78.357      0.000       0.026       0.027\n",
      "Mental_Fatigue_Score           0.0740      0.000    207.783      0.000       0.073       0.075\n",
      "==============================================================================\n",
      "Omnibus:                      194.854   Durbin-Watson:                   1.979\n",
      "Prob(Omnibus):                  0.000   Jarque-Bera (JB):              134.814\n",
      "Skew:                           0.088   Prob(JB):                     5.32e-30\n",
      "Kurtosis:                       2.622   Cond. No.                         30.9\n",
      "==============================================================================\n",
      "\n",
      "Notes:\n",
      "[1] Standard Errors assume that the covariance matrix of the errors is correctly specified.\n"
     ]
    }
   ],
   "source": [
    "y, X = dmatrices('Burn_Rate ~  WFH_Setup_Available + Resource_Allocation + Mental_Fatigue_Score',data=dataset, return_type='dataframe')\n",
    "\n",
    "# Run the linear regression\n",
    "model = sm.OLS(y, X)\n",
    "result = model.fit()\n",
    "print(result.summary())"
   ]
  },
  {
   "cell_type": "code",
   "execution_count": 339,
   "id": "5b05bc21",
   "metadata": {},
   "outputs": [
    {
     "data": {
      "text/plain": [
       "Intercept                    -0.083529\n",
       "WFH_Setup_Available[T.Yes]   -0.011919\n",
       "Resource_Allocation           0.026289\n",
       "Mental_Fatigue_Score          0.074049\n",
       "dtype: float64"
      ]
     },
     "execution_count": 339,
     "metadata": {},
     "output_type": "execute_result"
    }
   ],
   "source": [
    "result.params"
   ]
  },
  {
   "cell_type": "code",
   "execution_count": 340,
   "id": "bbb8cfff",
   "metadata": {},
   "outputs": [
    {
     "data": {
      "text/plain": [
       "0.9203640274092914"
      ]
     },
     "execution_count": 340,
     "metadata": {},
     "output_type": "execute_result"
    }
   ],
   "source": [
    "result.rsquared"
   ]
  },
  {
   "cell_type": "code",
   "execution_count": 341,
   "id": "60e70eca",
   "metadata": {},
   "outputs": [
    {
     "data": {
      "text/plain": [
       "Intercept                     0.000000e+00\n",
       "WFH_Setup_Available[T.Yes]    2.035339e-43\n",
       "Resource_Allocation           0.000000e+00\n",
       "Mental_Fatigue_Score          0.000000e+00\n",
       "dtype: float64"
      ]
     },
     "execution_count": 341,
     "metadata": {},
     "output_type": "execute_result"
    }
   ],
   "source": [
    "result.pvalues"
   ]
  },
  {
   "cell_type": "markdown",
   "id": "f6ce8dcf",
   "metadata": {},
   "source": [
    "#### We can see that after taking out the two variables, Gender and Designation, there is not a a significant change in the r-sqaured."
   ]
  },
  {
   "cell_type": "markdown",
   "id": "53a20a8d",
   "metadata": {},
   "source": [
    "#### The most significant variables of our dataset are WFH, Resource Allocation, and Mental Fatigue Score. "
   ]
  },
  {
   "cell_type": "code",
   "execution_count": 342,
   "id": "16f15671",
   "metadata": {},
   "outputs": [
    {
     "name": "stdout",
     "output_type": "stream",
     "text": [
      "[[1.  0.  3.  3.8]\n",
      " [1.  1.  2.  5. ]\n",
      " [1.  1.  1.  2.6]\n",
      " ...\n",
      " [1.  1.  6.  6.7]\n",
      " [1.  0.  5.  5.9]\n",
      " [1.  0.  6.  7.8]]\n",
      "[[0.16]\n",
      " [0.36]\n",
      " [0.2 ]\n",
      " ...\n",
      " [0.59]\n",
      " [0.52]\n",
      " [0.61]]\n"
     ]
    }
   ],
   "source": [
    "X1 = X.values\n",
    "y1 = y.values\n",
    "print(X1)\n",
    "print(y1)"
   ]
  },
  {
   "cell_type": "code",
   "execution_count": 367,
   "id": "97690729",
   "metadata": {},
   "outputs": [
    {
     "data": {
      "text/plain": [
       "array([[1. , 0. , 1. , 3.1],\n",
       "       [1. , 0. , 3. , 4.8],\n",
       "       [1. , 0. , 2. , 2.7],\n",
       "       ...,\n",
       "       [1. , 1. , 5. , 9.7],\n",
       "       [1. , 0. , 3. , 3.8],\n",
       "       [1. , 1. , 3. , 3.1]])"
      ]
     },
     "execution_count": 367,
     "metadata": {},
     "output_type": "execute_result"
    }
   ],
   "source": [
    "X_train, X_test, y_train, y_test = train_test_split(X1, y1, test_size = 0.2)\n",
    "X_test"
   ]
  },
  {
   "cell_type": "code",
   "execution_count": 368,
   "id": "b2b3afb9",
   "metadata": {},
   "outputs": [
    {
     "data": {
      "text/plain": [
       "LinearRegression()"
      ]
     },
     "execution_count": 368,
     "metadata": {},
     "output_type": "execute_result"
    }
   ],
   "source": [
    "from sklearn.linear_model import LinearRegression\n",
    "regressor = LinearRegression()\n",
    "regressor.fit(X_train, y_train)"
   ]
  },
  {
   "cell_type": "code",
   "execution_count": 369,
   "id": "bab4bde1",
   "metadata": {},
   "outputs": [
    {
     "data": {
      "text/html": [
       "<div>\n",
       "<style scoped>\n",
       "    .dataframe tbody tr th:only-of-type {\n",
       "        vertical-align: middle;\n",
       "    }\n",
       "\n",
       "    .dataframe tbody tr th {\n",
       "        vertical-align: top;\n",
       "    }\n",
       "\n",
       "    .dataframe thead th {\n",
       "        text-align: right;\n",
       "    }\n",
       "</style>\n",
       "<table border=\"1\" class=\"dataframe\">\n",
       "  <thead>\n",
       "    <tr style=\"text-align: right;\">\n",
       "      <th></th>\n",
       "      <th>Real_Values</th>\n",
       "      <th>Predicted_Values</th>\n",
       "    </tr>\n",
       "  </thead>\n",
       "  <tbody>\n",
       "    <tr>\n",
       "      <th>0</th>\n",
       "      <td>0.11</td>\n",
       "      <td>0.172549</td>\n",
       "    </tr>\n",
       "    <tr>\n",
       "      <th>1</th>\n",
       "      <td>0.38</td>\n",
       "      <td>0.351140</td>\n",
       "    </tr>\n",
       "    <tr>\n",
       "      <th>2</th>\n",
       "      <td>0.22</td>\n",
       "      <td>0.169637</td>\n",
       "    </tr>\n",
       "    <tr>\n",
       "      <th>3</th>\n",
       "      <td>0.27</td>\n",
       "      <td>0.297182</td>\n",
       "    </tr>\n",
       "    <tr>\n",
       "      <th>4</th>\n",
       "      <td>0.56</td>\n",
       "      <td>0.578455</td>\n",
       "    </tr>\n",
       "    <tr>\n",
       "      <th>...</th>\n",
       "      <td>...</td>\n",
       "      <td>...</td>\n",
       "    </tr>\n",
       "    <tr>\n",
       "      <th>3713</th>\n",
       "      <td>0.47</td>\n",
       "      <td>0.554003</td>\n",
       "    </tr>\n",
       "    <tr>\n",
       "      <th>3714</th>\n",
       "      <td>0.01</td>\n",
       "      <td>-0.068736</td>\n",
       "    </tr>\n",
       "    <tr>\n",
       "      <th>3715</th>\n",
       "      <td>0.81</td>\n",
       "      <td>0.753171</td>\n",
       "    </tr>\n",
       "    <tr>\n",
       "      <th>3716</th>\n",
       "      <td>0.23</td>\n",
       "      <td>0.277374</td>\n",
       "    </tr>\n",
       "    <tr>\n",
       "      <th>3717</th>\n",
       "      <td>0.19</td>\n",
       "      <td>0.213127</td>\n",
       "    </tr>\n",
       "  </tbody>\n",
       "</table>\n",
       "<p>3718 rows × 2 columns</p>\n",
       "</div>"
      ],
      "text/plain": [
       "      Real_Values  Predicted_Values\n",
       "0            0.11          0.172549\n",
       "1            0.38          0.351140\n",
       "2            0.22          0.169637\n",
       "3            0.27          0.297182\n",
       "4            0.56          0.578455\n",
       "...           ...               ...\n",
       "3713         0.47          0.554003\n",
       "3714         0.01         -0.068736\n",
       "3715         0.81          0.753171\n",
       "3716         0.23          0.277374\n",
       "3717         0.19          0.213127\n",
       "\n",
       "[3718 rows x 2 columns]"
      ]
     },
     "execution_count": 369,
     "metadata": {},
     "output_type": "execute_result"
    }
   ],
   "source": [
    "y_pred = regressor.predict(X_test)\n",
    "df = pd.DataFrame({'Real_Values':y_test.tolist(), 'Predicted_Values':y_pred.tolist()})\n",
    "df['Real_Values'] = df['Real_Values'].str.get(0)\n",
    "df['Predicted_Values'] = df['Predicted_Values'].str.get(0)\n",
    "df"
   ]
  },
  {
   "cell_type": "code",
   "execution_count": 370,
   "id": "993cea0b",
   "metadata": {},
   "outputs": [],
   "source": [
    "def acc(index):\n",
    "    absolute = mean(abs(df['Real_Values'][index] - df['Predicted_Values'][index]))\n",
    "    length = len(df['Real_Values'])\n",
    "    return absolute"
   ]
  },
  {
   "cell_type": "code",
   "execution_count": 372,
   "id": "fbad3e91",
   "metadata": {},
   "outputs": [
    {
     "data": {
      "text/plain": [
       "0.04496709024081808"
      ]
     },
     "execution_count": 372,
     "metadata": {},
     "output_type": "execute_result"
    }
   ],
   "source": [
    "total = 0 \n",
    "for i in range(0, 3718):\n",
    "    total += acc(i)\n",
    "total/len(df['Real_Values'])"
   ]
  },
  {
   "cell_type": "markdown",
   "id": "1bc00fe2",
   "metadata": {},
   "source": [
    "### 2. Naive Bayes"
   ]
  },
  {
   "cell_type": "code",
   "execution_count": 223,
   "id": "2f01d8f2",
   "metadata": {},
   "outputs": [
    {
     "name": "stderr",
     "output_type": "stream",
     "text": [
      "C:\\Users\\zjnbl\\AppData\\Local\\Temp\\ipykernel_12880\\2799578179.py:4: SettingWithCopyWarning: \n",
      "A value is trying to be set on a copy of a slice from a DataFrame\n",
      "\n",
      "See the caveats in the documentation: https://pandas.pydata.org/pandas-docs/stable/user_guide/indexing.html#returning-a-view-versus-a-copy\n",
      "  dataset['Target'][mask]=1.0\n"
     ]
    },
    {
     "data": {
      "text/plain": [
       "0.0    10826\n",
       "1.0     7764\n",
       "Name: Target, dtype: int64"
      ]
     },
     "execution_count": 223,
     "metadata": {},
     "output_type": "execute_result"
    }
   ],
   "source": [
    "# Create the target \n",
    "dataset['Target']=0.0\n",
    "mask=(dataset['Burn_Rate']>0.49)\n",
    "dataset['Target'][mask]=1.0\n",
    "dataset['Target'].value_counts()"
   ]
  },
  {
   "cell_type": "code",
   "execution_count": 224,
   "id": "269f0a3f",
   "metadata": {},
   "outputs": [
    {
     "name": "stdout",
     "output_type": "stream",
     "text": [
      "0    (-0.001, 4.6]\n",
      "1       (4.6, 5.9]\n",
      "2    (-0.001, 4.6]\n",
      "3       (5.9, 7.1]\n",
      "4    (-0.001, 4.6]\n",
      "Name: MFS_binned, dtype: category\n",
      "Categories (4, interval[float64, right]): [(-0.001, 4.6] < (4.6, 5.9] < (5.9, 7.1] < (7.1, 10.0]]\n"
     ]
    }
   ],
   "source": [
    "dataset['MFS_binned'],MFS_binned=pd.qcut(dataset['Mental_Fatigue_Score'],4,retbins=True)\n",
    "print(dataset['MFS_binned'][:5])"
   ]
  },
  {
   "cell_type": "code",
   "execution_count": 225,
   "id": "08b6e71a",
   "metadata": {
    "scrolled": true
   },
   "outputs": [
    {
     "name": "stderr",
     "output_type": "stream",
     "text": [
      "C:\\Users\\zjnbl\\AppData\\Local\\Temp\\ipykernel_12880\\3157525594.py:2: SettingWithCopyWarning: \n",
      "A value is trying to be set on a copy of a slice from a DataFrame\n",
      "\n",
      "See the caveats in the documentation: https://pandas.pydata.org/pandas-docs/stable/user_guide/indexing.html#returning-a-view-versus-a-copy\n",
      "  dataset['D_binned'][dataset['Designation']<2]='<2'\n",
      "C:\\Users\\zjnbl\\AppData\\Local\\Temp\\ipykernel_12880\\3157525594.py:3: SettingWithCopyWarning: \n",
      "A value is trying to be set on a copy of a slice from a DataFrame\n",
      "\n",
      "See the caveats in the documentation: https://pandas.pydata.org/pandas-docs/stable/user_guide/indexing.html#returning-a-view-versus-a-copy\n",
      "  dataset['D_binned'][dataset['Designation']>2]='>2'\n"
     ]
    }
   ],
   "source": [
    "dataset['D_binned']='2'\n",
    "dataset['D_binned'][dataset['Designation']<2]='<2'\n",
    "dataset['D_binned'][dataset['Designation']>2]='>2'"
   ]
  },
  {
   "cell_type": "code",
   "execution_count": 226,
   "id": "ebe5dda4",
   "metadata": {},
   "outputs": [
    {
     "name": "stderr",
     "output_type": "stream",
     "text": [
      "C:\\Users\\zjnbl\\AppData\\Local\\Temp\\ipykernel_12880\\184053704.py:2: SettingWithCopyWarning: \n",
      "A value is trying to be set on a copy of a slice from a DataFrame\n",
      "\n",
      "See the caveats in the documentation: https://pandas.pydata.org/pandas-docs/stable/user_guide/indexing.html#returning-a-view-versus-a-copy\n",
      "  dataset['RA_binned'][dataset['Resource_Allocation']<5]='<5'\n",
      "C:\\Users\\zjnbl\\AppData\\Local\\Temp\\ipykernel_12880\\184053704.py:3: SettingWithCopyWarning: \n",
      "A value is trying to be set on a copy of a slice from a DataFrame\n",
      "\n",
      "See the caveats in the documentation: https://pandas.pydata.org/pandas-docs/stable/user_guide/indexing.html#returning-a-view-versus-a-copy\n",
      "  dataset['RA_binned'][dataset['Resource_Allocation']>5]='>5'\n"
     ]
    }
   ],
   "source": [
    "dataset['RA_binned']='5'\n",
    "dataset['RA_binned'][dataset['Resource_Allocation']<5]='<5'\n",
    "dataset['RA_binned'][dataset['Resource_Allocation']>5]='>5'"
   ]
  },
  {
   "cell_type": "code",
   "execution_count": 227,
   "id": "56914dcc",
   "metadata": {},
   "outputs": [
    {
     "data": {
      "text/plain": [
       "array(['Gender_Female', 'Gender_Male', 'Company_Type_Product',\n",
       "       'Company_Type_Service', 'WFH_Setup_Available_No',\n",
       "       'WFH_Setup_Available_Yes', 'D_binned_2', 'D_binned_<2',\n",
       "       'D_binned_>2', 'RA_binned_5'], dtype=object)"
      ]
     },
     "execution_count": 227,
     "metadata": {},
     "output_type": "execute_result"
    }
   ],
   "source": [
    "# Make a list of all categorical variabels\n",
    "categorical_columns=['Gender','Company_Type','WFH_Setup_Available','D_binned','RA_binned','MFS_binned']\n",
    "\n",
    "# Create dummy variables\n",
    "dataset_dummies=pd.get_dummies(dataset[categorical_columns],prefix=categorical_columns,columns=categorical_columns)\n",
    "dummy_column_names=dataset_dummies.columns.values\n",
    "dummy_column_names[:10]"
   ]
  },
  {
   "cell_type": "code",
   "execution_count": 228,
   "id": "bc4458ca",
   "metadata": {},
   "outputs": [
    {
     "data": {
      "text/html": [
       "<div>\n",
       "<style scoped>\n",
       "    .dataframe tbody tr th:only-of-type {\n",
       "        vertical-align: middle;\n",
       "    }\n",
       "\n",
       "    .dataframe tbody tr th {\n",
       "        vertical-align: top;\n",
       "    }\n",
       "\n",
       "    .dataframe thead th {\n",
       "        text-align: right;\n",
       "    }\n",
       "</style>\n",
       "<table border=\"1\" class=\"dataframe\">\n",
       "  <thead>\n",
       "    <tr style=\"text-align: right;\">\n",
       "      <th></th>\n",
       "      <th>Gender</th>\n",
       "      <th>Company_Type</th>\n",
       "      <th>WFH_Setup_Available</th>\n",
       "      <th>Designation</th>\n",
       "      <th>Resource_Allocation</th>\n",
       "      <th>Mental_Fatigue_Score</th>\n",
       "      <th>Burn_Rate</th>\n",
       "      <th>Target</th>\n",
       "      <th>MFS_binned</th>\n",
       "      <th>D_binned</th>\n",
       "      <th>...</th>\n",
       "      <th>D_binned_2</th>\n",
       "      <th>D_binned_&lt;2</th>\n",
       "      <th>D_binned_&gt;2</th>\n",
       "      <th>RA_binned_5</th>\n",
       "      <th>RA_binned_&lt;5</th>\n",
       "      <th>RA_binned_&gt;5</th>\n",
       "      <th>MFS_binned_(-0.001, 4.6]</th>\n",
       "      <th>MFS_binned_(4.6, 5.9]</th>\n",
       "      <th>MFS_binned_(5.9, 7.1]</th>\n",
       "      <th>MFS_binned_(7.1, 10.0]</th>\n",
       "    </tr>\n",
       "  </thead>\n",
       "  <tbody>\n",
       "    <tr>\n",
       "      <th>0</th>\n",
       "      <td>Female</td>\n",
       "      <td>Service</td>\n",
       "      <td>No</td>\n",
       "      <td>2</td>\n",
       "      <td>3</td>\n",
       "      <td>3.8</td>\n",
       "      <td>0.16</td>\n",
       "      <td>0.0</td>\n",
       "      <td>(-0.001, 4.6]</td>\n",
       "      <td>2</td>\n",
       "      <td>...</td>\n",
       "      <td>1</td>\n",
       "      <td>0</td>\n",
       "      <td>0</td>\n",
       "      <td>0</td>\n",
       "      <td>1</td>\n",
       "      <td>0</td>\n",
       "      <td>1</td>\n",
       "      <td>0</td>\n",
       "      <td>0</td>\n",
       "      <td>0</td>\n",
       "    </tr>\n",
       "    <tr>\n",
       "      <th>1</th>\n",
       "      <td>Male</td>\n",
       "      <td>Service</td>\n",
       "      <td>Yes</td>\n",
       "      <td>1</td>\n",
       "      <td>2</td>\n",
       "      <td>5.0</td>\n",
       "      <td>0.36</td>\n",
       "      <td>0.0</td>\n",
       "      <td>(4.6, 5.9]</td>\n",
       "      <td>&lt;2</td>\n",
       "      <td>...</td>\n",
       "      <td>0</td>\n",
       "      <td>1</td>\n",
       "      <td>0</td>\n",
       "      <td>0</td>\n",
       "      <td>1</td>\n",
       "      <td>0</td>\n",
       "      <td>0</td>\n",
       "      <td>1</td>\n",
       "      <td>0</td>\n",
       "      <td>0</td>\n",
       "    </tr>\n",
       "    <tr>\n",
       "      <th>2</th>\n",
       "      <td>Male</td>\n",
       "      <td>Service</td>\n",
       "      <td>Yes</td>\n",
       "      <td>1</td>\n",
       "      <td>1</td>\n",
       "      <td>2.6</td>\n",
       "      <td>0.20</td>\n",
       "      <td>0.0</td>\n",
       "      <td>(-0.001, 4.6]</td>\n",
       "      <td>&lt;2</td>\n",
       "      <td>...</td>\n",
       "      <td>0</td>\n",
       "      <td>1</td>\n",
       "      <td>0</td>\n",
       "      <td>0</td>\n",
       "      <td>1</td>\n",
       "      <td>0</td>\n",
       "      <td>1</td>\n",
       "      <td>0</td>\n",
       "      <td>0</td>\n",
       "      <td>0</td>\n",
       "    </tr>\n",
       "    <tr>\n",
       "      <th>3</th>\n",
       "      <td>Female</td>\n",
       "      <td>Service</td>\n",
       "      <td>No</td>\n",
       "      <td>3</td>\n",
       "      <td>7</td>\n",
       "      <td>6.9</td>\n",
       "      <td>0.52</td>\n",
       "      <td>1.0</td>\n",
       "      <td>(5.9, 7.1]</td>\n",
       "      <td>&gt;2</td>\n",
       "      <td>...</td>\n",
       "      <td>0</td>\n",
       "      <td>0</td>\n",
       "      <td>1</td>\n",
       "      <td>0</td>\n",
       "      <td>0</td>\n",
       "      <td>1</td>\n",
       "      <td>0</td>\n",
       "      <td>0</td>\n",
       "      <td>1</td>\n",
       "      <td>0</td>\n",
       "    </tr>\n",
       "    <tr>\n",
       "      <th>4</th>\n",
       "      <td>Male</td>\n",
       "      <td>Product</td>\n",
       "      <td>Yes</td>\n",
       "      <td>2</td>\n",
       "      <td>4</td>\n",
       "      <td>3.6</td>\n",
       "      <td>0.29</td>\n",
       "      <td>0.0</td>\n",
       "      <td>(-0.001, 4.6]</td>\n",
       "      <td>2</td>\n",
       "      <td>...</td>\n",
       "      <td>1</td>\n",
       "      <td>0</td>\n",
       "      <td>0</td>\n",
       "      <td>0</td>\n",
       "      <td>1</td>\n",
       "      <td>0</td>\n",
       "      <td>1</td>\n",
       "      <td>0</td>\n",
       "      <td>0</td>\n",
       "      <td>0</td>\n",
       "    </tr>\n",
       "    <tr>\n",
       "      <th>...</th>\n",
       "      <td>...</td>\n",
       "      <td>...</td>\n",
       "      <td>...</td>\n",
       "      <td>...</td>\n",
       "      <td>...</td>\n",
       "      <td>...</td>\n",
       "      <td>...</td>\n",
       "      <td>...</td>\n",
       "      <td>...</td>\n",
       "      <td>...</td>\n",
       "      <td>...</td>\n",
       "      <td>...</td>\n",
       "      <td>...</td>\n",
       "      <td>...</td>\n",
       "      <td>...</td>\n",
       "      <td>...</td>\n",
       "      <td>...</td>\n",
       "      <td>...</td>\n",
       "      <td>...</td>\n",
       "      <td>...</td>\n",
       "      <td>...</td>\n",
       "    </tr>\n",
       "    <tr>\n",
       "      <th>18585</th>\n",
       "      <td>Female</td>\n",
       "      <td>Product</td>\n",
       "      <td>Yes</td>\n",
       "      <td>1</td>\n",
       "      <td>3</td>\n",
       "      <td>6.0</td>\n",
       "      <td>0.48</td>\n",
       "      <td>0.0</td>\n",
       "      <td>(5.9, 7.1]</td>\n",
       "      <td>&lt;2</td>\n",
       "      <td>...</td>\n",
       "      <td>0</td>\n",
       "      <td>1</td>\n",
       "      <td>0</td>\n",
       "      <td>0</td>\n",
       "      <td>1</td>\n",
       "      <td>0</td>\n",
       "      <td>0</td>\n",
       "      <td>0</td>\n",
       "      <td>1</td>\n",
       "      <td>0</td>\n",
       "    </tr>\n",
       "    <tr>\n",
       "      <th>18586</th>\n",
       "      <td>Male</td>\n",
       "      <td>Product</td>\n",
       "      <td>No</td>\n",
       "      <td>3</td>\n",
       "      <td>7</td>\n",
       "      <td>6.2</td>\n",
       "      <td>0.54</td>\n",
       "      <td>1.0</td>\n",
       "      <td>(5.9, 7.1]</td>\n",
       "      <td>&gt;2</td>\n",
       "      <td>...</td>\n",
       "      <td>0</td>\n",
       "      <td>0</td>\n",
       "      <td>1</td>\n",
       "      <td>0</td>\n",
       "      <td>0</td>\n",
       "      <td>1</td>\n",
       "      <td>0</td>\n",
       "      <td>0</td>\n",
       "      <td>1</td>\n",
       "      <td>0</td>\n",
       "    </tr>\n",
       "    <tr>\n",
       "      <th>18587</th>\n",
       "      <td>Female</td>\n",
       "      <td>Product</td>\n",
       "      <td>Yes</td>\n",
       "      <td>3</td>\n",
       "      <td>6</td>\n",
       "      <td>6.7</td>\n",
       "      <td>0.59</td>\n",
       "      <td>1.0</td>\n",
       "      <td>(5.9, 7.1]</td>\n",
       "      <td>&gt;2</td>\n",
       "      <td>...</td>\n",
       "      <td>0</td>\n",
       "      <td>0</td>\n",
       "      <td>1</td>\n",
       "      <td>0</td>\n",
       "      <td>0</td>\n",
       "      <td>1</td>\n",
       "      <td>0</td>\n",
       "      <td>0</td>\n",
       "      <td>1</td>\n",
       "      <td>0</td>\n",
       "    </tr>\n",
       "    <tr>\n",
       "      <th>18588</th>\n",
       "      <td>Female</td>\n",
       "      <td>Service</td>\n",
       "      <td>No</td>\n",
       "      <td>2</td>\n",
       "      <td>5</td>\n",
       "      <td>5.9</td>\n",
       "      <td>0.52</td>\n",
       "      <td>1.0</td>\n",
       "      <td>(4.6, 5.9]</td>\n",
       "      <td>2</td>\n",
       "      <td>...</td>\n",
       "      <td>1</td>\n",
       "      <td>0</td>\n",
       "      <td>0</td>\n",
       "      <td>1</td>\n",
       "      <td>0</td>\n",
       "      <td>0</td>\n",
       "      <td>0</td>\n",
       "      <td>1</td>\n",
       "      <td>0</td>\n",
       "      <td>0</td>\n",
       "    </tr>\n",
       "    <tr>\n",
       "      <th>18589</th>\n",
       "      <td>Male</td>\n",
       "      <td>Product</td>\n",
       "      <td>No</td>\n",
       "      <td>3</td>\n",
       "      <td>6</td>\n",
       "      <td>7.8</td>\n",
       "      <td>0.61</td>\n",
       "      <td>1.0</td>\n",
       "      <td>(7.1, 10.0]</td>\n",
       "      <td>&gt;2</td>\n",
       "      <td>...</td>\n",
       "      <td>0</td>\n",
       "      <td>0</td>\n",
       "      <td>1</td>\n",
       "      <td>0</td>\n",
       "      <td>0</td>\n",
       "      <td>1</td>\n",
       "      <td>0</td>\n",
       "      <td>0</td>\n",
       "      <td>0</td>\n",
       "      <td>1</td>\n",
       "    </tr>\n",
       "  </tbody>\n",
       "</table>\n",
       "<p>18590 rows × 27 columns</p>\n",
       "</div>"
      ],
      "text/plain": [
       "       Gender Company_Type WFH_Setup_Available  Designation  \\\n",
       "0      Female      Service                  No            2   \n",
       "1        Male      Service                 Yes            1   \n",
       "2        Male      Service                 Yes            1   \n",
       "3      Female      Service                  No            3   \n",
       "4        Male      Product                 Yes            2   \n",
       "...       ...          ...                 ...          ...   \n",
       "18585  Female      Product                 Yes            1   \n",
       "18586    Male      Product                  No            3   \n",
       "18587  Female      Product                 Yes            3   \n",
       "18588  Female      Service                  No            2   \n",
       "18589    Male      Product                  No            3   \n",
       "\n",
       "       Resource_Allocation  Mental_Fatigue_Score  Burn_Rate  Target  \\\n",
       "0                        3                   3.8       0.16     0.0   \n",
       "1                        2                   5.0       0.36     0.0   \n",
       "2                        1                   2.6       0.20     0.0   \n",
       "3                        7                   6.9       0.52     1.0   \n",
       "4                        4                   3.6       0.29     0.0   \n",
       "...                    ...                   ...        ...     ...   \n",
       "18585                    3                   6.0       0.48     0.0   \n",
       "18586                    7                   6.2       0.54     1.0   \n",
       "18587                    6                   6.7       0.59     1.0   \n",
       "18588                    5                   5.9       0.52     1.0   \n",
       "18589                    6                   7.8       0.61     1.0   \n",
       "\n",
       "          MFS_binned D_binned  ... D_binned_2  D_binned_<2  D_binned_>2  \\\n",
       "0      (-0.001, 4.6]        2  ...          1            0            0   \n",
       "1         (4.6, 5.9]       <2  ...          0            1            0   \n",
       "2      (-0.001, 4.6]       <2  ...          0            1            0   \n",
       "3         (5.9, 7.1]       >2  ...          0            0            1   \n",
       "4      (-0.001, 4.6]        2  ...          1            0            0   \n",
       "...              ...      ...  ...        ...          ...          ...   \n",
       "18585     (5.9, 7.1]       <2  ...          0            1            0   \n",
       "18586     (5.9, 7.1]       >2  ...          0            0            1   \n",
       "18587     (5.9, 7.1]       >2  ...          0            0            1   \n",
       "18588     (4.6, 5.9]        2  ...          1            0            0   \n",
       "18589    (7.1, 10.0]       >2  ...          0            0            1   \n",
       "\n",
       "       RA_binned_5  RA_binned_<5  RA_binned_>5  MFS_binned_(-0.001, 4.6]  \\\n",
       "0                0             1             0                         1   \n",
       "1                0             1             0                         0   \n",
       "2                0             1             0                         1   \n",
       "3                0             0             1                         0   \n",
       "4                0             1             0                         1   \n",
       "...            ...           ...           ...                       ...   \n",
       "18585            0             1             0                         0   \n",
       "18586            0             0             1                         0   \n",
       "18587            0             0             1                         0   \n",
       "18588            1             0             0                         0   \n",
       "18589            0             0             1                         0   \n",
       "\n",
       "       MFS_binned_(4.6, 5.9]  MFS_binned_(5.9, 7.1]  MFS_binned_(7.1, 10.0]  \n",
       "0                          0                      0                       0  \n",
       "1                          1                      0                       0  \n",
       "2                          0                      0                       0  \n",
       "3                          0                      1                       0  \n",
       "4                          0                      0                       0  \n",
       "...                      ...                    ...                     ...  \n",
       "18585                      0                      1                       0  \n",
       "18586                      0                      1                       0  \n",
       "18587                      0                      1                       0  \n",
       "18588                      1                      0                       0  \n",
       "18589                      0                      0                       1  \n",
       "\n",
       "[18590 rows x 27 columns]"
      ]
     },
     "execution_count": 228,
     "metadata": {},
     "output_type": "execute_result"
    }
   ],
   "source": [
    "# Concatenate these new dummy columns into the old dataframe\n",
    "dataset_2=pd.concat([dataset,dataset_dummies],axis=1)\n",
    "dataset_2"
   ]
  },
  {
   "cell_type": "code",
   "execution_count": 229,
   "id": "1e095752",
   "metadata": {},
   "outputs": [
    {
     "name": "stdout",
     "output_type": "stream",
     "text": [
      "Target~0+Q(\"Gender_Female\")+Q(\"Gender_Male\")+Q(\"Company_Type_Product\")+Q(\"Company_Type_Service\")+Q(\"WFH_Setup_Available_No\")+Q(\"WFH_Setup_Available_Yes\")+Q(\"D_binned_2\")+Q(\"D_binned_<2\")+Q(\"D_binned_>2\")+Q(\"RA_binned_5\")+Q(\"RA_binned_<5\")+Q(\"RA_binned_>5\")+Q(\"MFS_binned_(-0.001, 4.6]\")+Q(\"MFS_binned_(4.6, 5.9]\")+Q(\"MFS_binned_(5.9, 7.1]\")+Q(\"MFS_binned_(7.1, 10.0]\")\n"
     ]
    }
   ],
   "source": [
    "formula='Target~0+{}'.format('+'.join(['Q(\"{}\")'.format(x)\\\n",
    "                                       for x in dummy_column_names]))\n",
    "print(formula)"
   ]
  },
  {
   "cell_type": "code",
   "execution_count": 230,
   "id": "d4c34a92",
   "metadata": {},
   "outputs": [],
   "source": [
    "Y,X=dmatrices(formula,dataset_2,return_type='dataframe')\n",
    "y=Y['Target'].values"
   ]
  },
  {
   "cell_type": "code",
   "execution_count": 231,
   "id": "01b272a5",
   "metadata": {},
   "outputs": [
    {
     "data": {
      "text/plain": [
       "MultinomialNB()"
      ]
     },
     "execution_count": 231,
     "metadata": {},
     "output_type": "execute_result"
    }
   ],
   "source": [
    "# Set up the classifier\n",
    "from sklearn import naive_bayes\n",
    "model=naive_bayes.MultinomialNB()\n",
    "\n",
    "# Fit the model\n",
    "model.fit(X,y)"
   ]
  },
  {
   "cell_type": "code",
   "execution_count": 232,
   "id": "71491011",
   "metadata": {},
   "outputs": [
    {
     "name": "stdout",
     "output_type": "stream",
     "text": [
      "Prediction\n",
      "[0. 0. 0. 1. 0. 1. 0. 0. 0. 0.]\n",
      "Actual\n",
      "[0. 0. 0. 1. 0. 1. 0. 1. 0. 1.]\n"
     ]
    }
   ],
   "source": [
    "# Test on some training data\n",
    "print('Prediction')\n",
    "print(model.predict(X[:10]))\n",
    "print('Actual')\n",
    "print(y[:10])"
   ]
  },
  {
   "cell_type": "code",
   "execution_count": 233,
   "id": "7bcfaf84",
   "metadata": {},
   "outputs": [
    {
     "name": "stdout",
     "output_type": "stream",
     "text": [
      "0.9033889187735341\n"
     ]
    }
   ],
   "source": [
    "from sklearn import metrics\n",
    "\n",
    "prediction_train=model.predict(X)\n",
    "print(metrics.accuracy_score(y,prediction_train))"
   ]
  },
  {
   "cell_type": "markdown",
   "id": "2246f162",
   "metadata": {},
   "source": [
    "### 3. KNN"
   ]
  },
  {
   "cell_type": "code",
   "execution_count": 234,
   "id": "619f279c",
   "metadata": {},
   "outputs": [
    {
     "data": {
      "text/html": [
       "<div>\n",
       "<style scoped>\n",
       "    .dataframe tbody tr th:only-of-type {\n",
       "        vertical-align: middle;\n",
       "    }\n",
       "\n",
       "    .dataframe tbody tr th {\n",
       "        vertical-align: top;\n",
       "    }\n",
       "\n",
       "    .dataframe thead th {\n",
       "        text-align: right;\n",
       "    }\n",
       "</style>\n",
       "<table border=\"1\" class=\"dataframe\">\n",
       "  <thead>\n",
       "    <tr style=\"text-align: right;\">\n",
       "      <th></th>\n",
       "      <th>Mental_Fatigue_Score</th>\n",
       "      <th>Resource_Allocation</th>\n",
       "      <th>Burn_Rate</th>\n",
       "    </tr>\n",
       "  </thead>\n",
       "  <tbody>\n",
       "    <tr>\n",
       "      <th>0</th>\n",
       "      <td>3.8</td>\n",
       "      <td>3</td>\n",
       "      <td>0.16</td>\n",
       "    </tr>\n",
       "    <tr>\n",
       "      <th>1</th>\n",
       "      <td>5.0</td>\n",
       "      <td>2</td>\n",
       "      <td>0.36</td>\n",
       "    </tr>\n",
       "    <tr>\n",
       "      <th>2</th>\n",
       "      <td>2.6</td>\n",
       "      <td>1</td>\n",
       "      <td>0.20</td>\n",
       "    </tr>\n",
       "    <tr>\n",
       "      <th>3</th>\n",
       "      <td>6.9</td>\n",
       "      <td>7</td>\n",
       "      <td>0.52</td>\n",
       "    </tr>\n",
       "    <tr>\n",
       "      <th>4</th>\n",
       "      <td>3.6</td>\n",
       "      <td>4</td>\n",
       "      <td>0.29</td>\n",
       "    </tr>\n",
       "    <tr>\n",
       "      <th>...</th>\n",
       "      <td>...</td>\n",
       "      <td>...</td>\n",
       "      <td>...</td>\n",
       "    </tr>\n",
       "    <tr>\n",
       "      <th>18585</th>\n",
       "      <td>6.0</td>\n",
       "      <td>3</td>\n",
       "      <td>0.48</td>\n",
       "    </tr>\n",
       "    <tr>\n",
       "      <th>18586</th>\n",
       "      <td>6.2</td>\n",
       "      <td>7</td>\n",
       "      <td>0.54</td>\n",
       "    </tr>\n",
       "    <tr>\n",
       "      <th>18587</th>\n",
       "      <td>6.7</td>\n",
       "      <td>6</td>\n",
       "      <td>0.59</td>\n",
       "    </tr>\n",
       "    <tr>\n",
       "      <th>18588</th>\n",
       "      <td>5.9</td>\n",
       "      <td>5</td>\n",
       "      <td>0.52</td>\n",
       "    </tr>\n",
       "    <tr>\n",
       "      <th>18589</th>\n",
       "      <td>7.8</td>\n",
       "      <td>6</td>\n",
       "      <td>0.61</td>\n",
       "    </tr>\n",
       "  </tbody>\n",
       "</table>\n",
       "<p>18590 rows × 3 columns</p>\n",
       "</div>"
      ],
      "text/plain": [
       "       Mental_Fatigue_Score  Resource_Allocation  Burn_Rate\n",
       "0                       3.8                    3       0.16\n",
       "1                       5.0                    2       0.36\n",
       "2                       2.6                    1       0.20\n",
       "3                       6.9                    7       0.52\n",
       "4                       3.6                    4       0.29\n",
       "...                     ...                  ...        ...\n",
       "18585                   6.0                    3       0.48\n",
       "18586                   6.2                    7       0.54\n",
       "18587                   6.7                    6       0.59\n",
       "18588                   5.9                    5       0.52\n",
       "18589                   7.8                    6       0.61\n",
       "\n",
       "[18590 rows x 3 columns]"
      ]
     },
     "execution_count": 234,
     "metadata": {},
     "output_type": "execute_result"
    }
   ],
   "source": [
    "dataset_3=dataset[['Mental_Fatigue_Score','Resource_Allocation','Burn_Rate']].copy()\n",
    "dataset_3"
   ]
  },
  {
   "cell_type": "code",
   "execution_count": 235,
   "id": "a1fe8340",
   "metadata": {},
   "outputs": [
    {
     "data": {
      "text/plain": [
       "18590"
      ]
     },
     "execution_count": 235,
     "metadata": {},
     "output_type": "execute_result"
    }
   ],
   "source": [
    "# Total datapoints\n",
    "len(dataset_3)"
   ]
  },
  {
   "cell_type": "code",
   "execution_count": 236,
   "id": "3a29db79",
   "metadata": {},
   "outputs": [
    {
     "data": {
      "text/plain": [
       "0.47    416\n",
       "0.43    382\n",
       "0.45    379\n",
       "0.50    369\n",
       "0.41    365\n",
       "       ... \n",
       "0.98     17\n",
       "0.95     16\n",
       "0.97     11\n",
       "0.96     10\n",
       "0.99      8\n",
       "Name: Burn_Rate, Length: 101, dtype: int64"
      ]
     },
     "execution_count": 236,
     "metadata": {},
     "output_type": "execute_result"
    }
   ],
   "source": [
    "dataset_3['Burn_Rate'].value_counts()"
   ]
  },
  {
   "cell_type": "code",
   "execution_count": 237,
   "id": "34ab8487",
   "metadata": {},
   "outputs": [
    {
     "data": {
      "text/html": [
       "<div>\n",
       "<style scoped>\n",
       "    .dataframe tbody tr th:only-of-type {\n",
       "        vertical-align: middle;\n",
       "    }\n",
       "\n",
       "    .dataframe tbody tr th {\n",
       "        vertical-align: top;\n",
       "    }\n",
       "\n",
       "    .dataframe thead th {\n",
       "        text-align: right;\n",
       "    }\n",
       "</style>\n",
       "<table border=\"1\" class=\"dataframe\">\n",
       "  <thead>\n",
       "    <tr style=\"text-align: right;\">\n",
       "      <th></th>\n",
       "      <th>Mental_Fatigue_Score</th>\n",
       "      <th>Resource_Allocation</th>\n",
       "      <th>Burn_Rate</th>\n",
       "      <th>target</th>\n",
       "    </tr>\n",
       "  </thead>\n",
       "  <tbody>\n",
       "    <tr>\n",
       "      <th>0</th>\n",
       "      <td>3.8</td>\n",
       "      <td>3</td>\n",
       "      <td>0.16</td>\n",
       "      <td>0.0</td>\n",
       "    </tr>\n",
       "    <tr>\n",
       "      <th>1</th>\n",
       "      <td>5.0</td>\n",
       "      <td>2</td>\n",
       "      <td>0.36</td>\n",
       "      <td>0.0</td>\n",
       "    </tr>\n",
       "    <tr>\n",
       "      <th>2</th>\n",
       "      <td>2.6</td>\n",
       "      <td>1</td>\n",
       "      <td>0.20</td>\n",
       "      <td>0.0</td>\n",
       "    </tr>\n",
       "    <tr>\n",
       "      <th>3</th>\n",
       "      <td>6.9</td>\n",
       "      <td>7</td>\n",
       "      <td>0.52</td>\n",
       "      <td>1.0</td>\n",
       "    </tr>\n",
       "    <tr>\n",
       "      <th>4</th>\n",
       "      <td>3.6</td>\n",
       "      <td>4</td>\n",
       "      <td>0.29</td>\n",
       "      <td>0.0</td>\n",
       "    </tr>\n",
       "    <tr>\n",
       "      <th>...</th>\n",
       "      <td>...</td>\n",
       "      <td>...</td>\n",
       "      <td>...</td>\n",
       "      <td>...</td>\n",
       "    </tr>\n",
       "    <tr>\n",
       "      <th>18585</th>\n",
       "      <td>6.0</td>\n",
       "      <td>3</td>\n",
       "      <td>0.48</td>\n",
       "      <td>0.0</td>\n",
       "    </tr>\n",
       "    <tr>\n",
       "      <th>18586</th>\n",
       "      <td>6.2</td>\n",
       "      <td>7</td>\n",
       "      <td>0.54</td>\n",
       "      <td>1.0</td>\n",
       "    </tr>\n",
       "    <tr>\n",
       "      <th>18587</th>\n",
       "      <td>6.7</td>\n",
       "      <td>6</td>\n",
       "      <td>0.59</td>\n",
       "      <td>1.0</td>\n",
       "    </tr>\n",
       "    <tr>\n",
       "      <th>18588</th>\n",
       "      <td>5.9</td>\n",
       "      <td>5</td>\n",
       "      <td>0.52</td>\n",
       "      <td>1.0</td>\n",
       "    </tr>\n",
       "    <tr>\n",
       "      <th>18589</th>\n",
       "      <td>7.8</td>\n",
       "      <td>6</td>\n",
       "      <td>0.61</td>\n",
       "      <td>1.0</td>\n",
       "    </tr>\n",
       "  </tbody>\n",
       "</table>\n",
       "<p>18590 rows × 4 columns</p>\n",
       "</div>"
      ],
      "text/plain": [
       "       Mental_Fatigue_Score  Resource_Allocation  Burn_Rate  target\n",
       "0                       3.8                    3       0.16     0.0\n",
       "1                       5.0                    2       0.36     0.0\n",
       "2                       2.6                    1       0.20     0.0\n",
       "3                       6.9                    7       0.52     1.0\n",
       "4                       3.6                    4       0.29     0.0\n",
       "...                     ...                  ...        ...     ...\n",
       "18585                   6.0                    3       0.48     0.0\n",
       "18586                   6.2                    7       0.54     1.0\n",
       "18587                   6.7                    6       0.59     1.0\n",
       "18588                   5.9                    5       0.52     1.0\n",
       "18589                   7.8                    6       0.61     1.0\n",
       "\n",
       "[18590 rows x 4 columns]"
      ]
     },
     "execution_count": 237,
     "metadata": {},
     "output_type": "execute_result"
    }
   ],
   "source": [
    "# Create a new 'target' column with all o\n",
    "dataset_3['target']=0.0\n",
    "mask=(dataset_3['Burn_Rate']>0.49)\n",
    "dataset_3.loc[mask,'target']=1.0\n",
    "dataset_3"
   ]
  },
  {
   "cell_type": "code",
   "execution_count": 238,
   "id": "f5a0e16e",
   "metadata": {},
   "outputs": [
    {
     "name": "stdout",
     "output_type": "stream",
     "text": [
      "Design matrix X\n",
      "   Mental_Fatigue_Score  Resource_Allocation\n",
      "0                   3.8                  3.0\n",
      "1                   5.0                  2.0\n",
      "2                   2.6                  1.0\n",
      "3                   6.9                  7.0\n",
      "4                   3.6                  4.0\n",
      "Outcomes Y\n",
      "   target\n",
      "0     0.0\n",
      "1     0.0\n",
      "2     0.0\n",
      "3     1.0\n",
      "4     0.0\n"
     ]
    }
   ],
   "source": [
    "Y,X=dmatrices('target~0 + Mental_Fatigue_Score+Resource_Allocation',dataset_3,return_type='dataframe')\n",
    "print('Design matrix X')\n",
    "print(X[:5])\n",
    "print('Outcomes Y')\n",
    "print(Y[:5])"
   ]
  },
  {
   "cell_type": "code",
   "execution_count": 239,
   "id": "f5d6696a",
   "metadata": {},
   "outputs": [
    {
     "name": "stdout",
     "output_type": "stream",
     "text": [
      "[0. 0. 0. 1. 0.]\n"
     ]
    }
   ],
   "source": [
    "y=Y['target'].values\n",
    "print(y[:5])"
   ]
  },
  {
   "cell_type": "code",
   "execution_count": 240,
   "id": "5d01662a",
   "metadata": {},
   "outputs": [
    {
     "data": {
      "text/plain": [
       "Text(0, 0.5, 'Resource Allocation')"
      ]
     },
     "execution_count": 240,
     "metadata": {},
     "output_type": "execute_result"
    },
    {
     "data": {
      "image/png": "[encoded data removed]",
      "text/plain": [
       "<Figure size 432x288 with 2 Axes>"
      ]
     },
     "metadata": {
      "needs_background": "light"
     },
     "output_type": "display_data"
    }
   ],
   "source": [
    "# Plot the data \n",
    "sc=plt.scatter(dataset_3['Mental_Fatigue_Score'],dataset_3['Resource_Allocation'],c=e,cmap='bwr')\n",
    "plt.colorbar(sc)\n",
    "plt.xlabel('Mental Fatigue Score')\n",
    "plt.ylabel('Resource Allocation')"
   ]
  },
  {
   "cell_type": "code",
   "execution_count": 256,
   "id": "6eef6a82",
   "metadata": {},
   "outputs": [
    {
     "data": {
      "text/plain": [
       "array([1., 1., 1., 0., 0.])"
      ]
     },
     "execution_count": 256,
     "metadata": {},
     "output_type": "execute_result"
    }
   ],
   "source": [
    "y_train[:5]"
   ]
  },
  {
   "cell_type": "code",
   "execution_count": 257,
   "id": "253e082e",
   "metadata": {},
   "outputs": [
    {
     "data": {
      "text/plain": [
       "KNeighborsClassifier(n_neighbors=15)"
      ]
     },
     "execution_count": 257,
     "metadata": {},
     "output_type": "execute_result"
    }
   ],
   "source": [
    "# Set up the classifier\n",
    "from sklearn import neighbors\n",
    "model=neighbors.KNeighborsClassifier(n_neighbors=15,weights='uniform',p=2)\n",
    "\n",
    "# Fit the classifier\n",
    "model.fit(X_train,y_train)"
   ]
  },
  {
   "cell_type": "code",
   "execution_count": 258,
   "id": "43cdcfed",
   "metadata": {},
   "outputs": [
    {
     "name": "stdout",
     "output_type": "stream",
     "text": [
      "Predictions= [1. 1. 1. 0. 0.]\n"
     ]
    }
   ],
   "source": [
    "print('Predictions=',model.predict(X_train.iloc[0:5]))"
   ]
  },
  {
   "cell_type": "code",
   "execution_count": 259,
   "id": "3a58a051",
   "metadata": {},
   "outputs": [
    {
     "name": "stdout",
     "output_type": "stream",
     "text": [
      "0.9188503803888419\n"
     ]
    }
   ],
   "source": [
    "from sklearn import metrics\n",
    "prediction_on_training=model.predict(X_train)\n",
    "print(metrics.accuracy_score(y_train,prediction_on_training))"
   ]
  }
 ],
 "metadata": {
  "kernelspec": {
   "display_name": "Python 3 (ipykernel)",
   "language": "python",
   "name": "python3"
  },
  "language_info": {
   "codemirror_mode": {
    "name": "ipython",
    "version": 3
   },
   "file_extension": ".py",
   "mimetype": "text/x-python",
   "name": "python",
   "nbconvert_exporter": "python",
   "pygments_lexer": "ipython3",
   "version": "3.9.12"
  }
 },
 "nbformat": 4,
 "nbformat_minor": 5
}
